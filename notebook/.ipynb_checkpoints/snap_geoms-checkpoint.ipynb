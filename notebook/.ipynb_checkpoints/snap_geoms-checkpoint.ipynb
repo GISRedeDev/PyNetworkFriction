{
 "cells": [
  {
   "cell_type": "code",
   "execution_count": null,
   "id": "b1f6ef08",
   "metadata": {},
   "outputs": [],
   "source": [
    "import geopandas as gpd\n",
    "import network as nx\n",
    "from shapely.geometry import LineString\n",
    "from shapely.ops import snap\n",
    "\n",
    "gdf = gpd.read_file(\"../data/UKR_networks.gpkg\", layer=\"UKR_networks\")\n",
    "h"
   ]
  }
 ],
 "metadata": {
  "kernelspec": {
   "display_name": "Python 3 (ipykernel)",
   "language": "python",
   "name": "python3"
  },
  "language_info": {
   "codemirror_mode": {
    "name": "ipython",
    "version": 3
   },
   "file_extension": ".py",
   "mimetype": "text/x-python",
   "name": "python",
   "nbconvert_exporter": "python",
   "pygments_lexer": "ipython3",
   "version": "3.10.6"
  }
 },
 "nbformat": 4,
 "nbformat_minor": 5
}

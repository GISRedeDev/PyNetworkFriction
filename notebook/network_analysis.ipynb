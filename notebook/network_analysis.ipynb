{
 "cells": [
  {
   "cell_type": "code",
   "execution_count": 1,
   "id": "fa624925",
   "metadata": {},
   "outputs": [
    {
     "name": "stderr",
     "output_type": "stream",
     "text": [
      "C:\\Users\\dkerr\\Miniconda3\\envs\\gisrede\\lib\\site-packages\\tqdm\\auto.py:21: TqdmWarning: IProgress not found. Please update jupyter and ipywidgets. See https://ipywidgets.readthedocs.io/en/stable/user_install.html\n",
      "  from .autonotebook import tqdm as notebook_tqdm\n"
     ]
    },
    {
     "name": "stdout",
     "output_type": "stream",
     "text": [
      "epsg:6383\n"
     ]
    },
    {
     "data": {
      "text/html": [
       "<div>\n",
       "<style scoped>\n",
       "    .dataframe tbody tr th:only-of-type {\n",
       "        vertical-align: middle;\n",
       "    }\n",
       "\n",
       "    .dataframe tbody tr th {\n",
       "        vertical-align: top;\n",
       "    }\n",
       "\n",
       "    .dataframe thead th {\n",
       "        text-align: right;\n",
       "    }\n",
       "</style>\n",
       "<table border=\"1\" class=\"dataframe\">\n",
       "  <thead>\n",
       "    <tr style=\"text-align: right;\">\n",
       "      <th></th>\n",
       "      <th>id</th>\n",
       "      <th>length</th>\n",
       "      <th>geometry</th>\n",
       "    </tr>\n",
       "  </thead>\n",
       "  <tbody>\n",
       "    <tr>\n",
       "      <th>0</th>\n",
       "      <td>1</td>\n",
       "      <td>243.672813</td>\n",
       "      <td>LINESTRING (550265.396 5599118.127, 550269.327...</td>\n",
       "    </tr>\n",
       "    <tr>\n",
       "      <th>1</th>\n",
       "      <td>1</td>\n",
       "      <td>369.206205</td>\n",
       "      <td>LINESTRING (559190.887 5593222.167, 559196.552...</td>\n",
       "    </tr>\n",
       "  </tbody>\n",
       "</table>\n",
       "</div>"
      ],
      "text/plain": [
       "   id      length                                           geometry\n",
       "0   1  243.672813  LINESTRING (550265.396 5599118.127, 550269.327...\n",
       "1   1  369.206205  LINESTRING (559190.887 5593222.167, 559196.552..."
      ]
     },
     "execution_count": 1,
     "metadata": {},
     "output_type": "execute_result"
    }
   ],
   "source": [
    "import geopandas as gpd\n",
    "import networkx as nx\n",
    "from pathlib import Path\n",
    "import fiona\n",
    "from libpysal import weights\n",
    "import momepy\n",
    "import matplotlib.pyplot as plt\n",
    "import osmnx as ox\n",
    "import pandas as pd\n",
    "\n",
    "roads = r\"..\\data\\UKR_networks_fixed.gpkg\"\n",
    "gdf_roads = gpd.read_file(roads, layer=\"roads\")\n",
    "print(gdf_roads.crs)\n",
    "gdf_roads.head(2)"
   ]
  },
  {
   "cell_type": "code",
   "execution_count": 2,
   "id": "6b49c6ae",
   "metadata": {},
   "outputs": [
    {
     "name": "stderr",
     "output_type": "stream",
     "text": [
      "C:\\Users\\dkerr\\Miniconda3\\envs\\gisrede\\lib\\site-packages\\libpysal\\weights\\weights.py:224: UserWarning: The weights matrix is not fully connected: \n",
      " There are 218 disconnected components.\n",
      "  warnings.warn(message)\n"
     ]
    }
   ],
   "source": [
    "G = momepy.gdf_to_nx(gdf_roads, approach=\"primal\")\n",
    "nodes, edges, sw = momepy.nx_to_gdf(G, points=True, lines=True, spatial_weights=True)"
   ]
  },
  {
   "cell_type": "code",
   "execution_count": 13,
   "id": "b0061053",
   "metadata": {},
   "outputs": [
    {
     "name": "stdout",
     "output_type": "stream",
     "text": [
      "218\n",
      "Nodes in isolated parts of the graph: 797 out of 149856\n"
     ]
    }
   ],
   "source": [
    "## FINDING DISCONNECTED COMPONENTS\n",
    "# Find the disconnected components\n",
    "components = [x for x in nx.connected_components(G)]\n",
    "print(len(list(components)))\n",
    "\n",
    "largest_component = max(components, key=len)\n",
    "isolated_nodes = [node for component in components if component != largest_component for node in component]\n",
    "print(f\"Nodes in isolated parts of the graph: {len(isolated_nodes)} out of {len(largest_component)}\")"
   ]
  },
  {
   "cell_type": "code",
   "execution_count": 15,
   "id": "a23179ab",
   "metadata": {},
   "outputs": [
    {
     "data": {
      "text/html": [
       "<div>\n",
       "<style scoped>\n",
       "    .dataframe tbody tr th:only-of-type {\n",
       "        vertical-align: middle;\n",
       "    }\n",
       "\n",
       "    .dataframe tbody tr th {\n",
       "        vertical-align: top;\n",
       "    }\n",
       "\n",
       "    .dataframe thead th {\n",
       "        text-align: right;\n",
       "    }\n",
       "</style>\n",
       "<table border=\"1\" class=\"dataframe\">\n",
       "  <thead>\n",
       "    <tr style=\"text-align: right;\">\n",
       "      <th></th>\n",
       "      <th>id</th>\n",
       "      <th>length</th>\n",
       "      <th>geometry</th>\n",
       "      <th>mm_len</th>\n",
       "      <th>node_start</th>\n",
       "      <th>node_end</th>\n",
       "    </tr>\n",
       "  </thead>\n",
       "  <tbody>\n",
       "    <tr>\n",
       "      <th>0</th>\n",
       "      <td>1</td>\n",
       "      <td>243.672813</td>\n",
       "      <td>LINESTRING (550265.396 5599118.127, 550269.327...</td>\n",
       "      <td>243.672813</td>\n",
       "      <td>0</td>\n",
       "      <td>1</td>\n",
       "    </tr>\n",
       "    <tr>\n",
       "      <th>1</th>\n",
       "      <td>1</td>\n",
       "      <td>44.894422</td>\n",
       "      <td>LINESTRING (550233.796 5599149.983, 550250.715...</td>\n",
       "      <td>44.894422</td>\n",
       "      <td>0</td>\n",
       "      <td>536</td>\n",
       "    </tr>\n",
       "    <tr>\n",
       "      <th>2</th>\n",
       "      <td>1</td>\n",
       "      <td>21.242812</td>\n",
       "      <td>LINESTRING (550329.890 5598885.909, 550333.474...</td>\n",
       "      <td>21.242812</td>\n",
       "      <td>1</td>\n",
       "      <td>84404</td>\n",
       "    </tr>\n",
       "  </tbody>\n",
       "</table>\n",
       "</div>"
      ],
      "text/plain": [
       "   id      length                                           geometry  \\\n",
       "0   1  243.672813  LINESTRING (550265.396 5599118.127, 550269.327...   \n",
       "1   1   44.894422  LINESTRING (550233.796 5599149.983, 550250.715...   \n",
       "2   1   21.242812  LINESTRING (550329.890 5598885.909, 550333.474...   \n",
       "\n",
       "       mm_len  node_start  node_end  \n",
       "0  243.672813           0         1  \n",
       "1   44.894422           0       536  \n",
       "2   21.242812           1     84404  "
      ]
     },
     "metadata": {},
     "output_type": "display_data"
    },
    {
     "data": {
      "text/html": [
       "<div>\n",
       "<style scoped>\n",
       "    .dataframe tbody tr th:only-of-type {\n",
       "        vertical-align: middle;\n",
       "    }\n",
       "\n",
       "    .dataframe tbody tr th {\n",
       "        vertical-align: top;\n",
       "    }\n",
       "\n",
       "    .dataframe thead th {\n",
       "        text-align: right;\n",
       "    }\n",
       "</style>\n",
       "<table border=\"1\" class=\"dataframe\">\n",
       "  <thead>\n",
       "    <tr style=\"text-align: right;\">\n",
       "      <th></th>\n",
       "      <th>nodeID</th>\n",
       "      <th>geometry</th>\n",
       "    </tr>\n",
       "  </thead>\n",
       "  <tbody>\n",
       "    <tr>\n",
       "      <th>0</th>\n",
       "      <td>0</td>\n",
       "      <td>POINT (550265.396 5599118.127)</td>\n",
       "    </tr>\n",
       "    <tr>\n",
       "      <th>1</th>\n",
       "      <td>1</td>\n",
       "      <td>POINT (550329.890 5598885.909)</td>\n",
       "    </tr>\n",
       "    <tr>\n",
       "      <th>2</th>\n",
       "      <td>2</td>\n",
       "      <td>POINT (559190.887 5593222.167)</td>\n",
       "    </tr>\n",
       "  </tbody>\n",
       "</table>\n",
       "</div>"
      ],
      "text/plain": [
       "   nodeID                        geometry\n",
       "0       0  POINT (550265.396 5599118.127)\n",
       "1       1  POINT (550329.890 5598885.909)\n",
       "2       2  POINT (559190.887 5593222.167)"
      ]
     },
     "execution_count": 15,
     "metadata": {},
     "output_type": "execute_result"
    }
   ],
   "source": [
    "display(edges.head(3))\n",
    "nodes.head(3)"
   ]
  },
  {
   "cell_type": "code",
   "execution_count": 17,
   "id": "b7b578e4",
   "metadata": {},
   "outputs": [
    {
     "data": {
      "text/html": [
       "<div>\n",
       "<style scoped>\n",
       "    .dataframe tbody tr th:only-of-type {\n",
       "        vertical-align: middle;\n",
       "    }\n",
       "\n",
       "    .dataframe tbody tr th {\n",
       "        vertical-align: top;\n",
       "    }\n",
       "\n",
       "    .dataframe thead th {\n",
       "        text-align: right;\n",
       "    }\n",
       "</style>\n",
       "<table border=\"1\" class=\"dataframe\">\n",
       "  <thead>\n",
       "    <tr style=\"text-align: right;\">\n",
       "      <th></th>\n",
       "      <th>id</th>\n",
       "      <th>length</th>\n",
       "      <th>geometry</th>\n",
       "      <th>mm_len</th>\n",
       "      <th>node_start</th>\n",
       "      <th>node_end</th>\n",
       "    </tr>\n",
       "  </thead>\n",
       "  <tbody>\n",
       "    <tr>\n",
       "      <th>310</th>\n",
       "      <td>1</td>\n",
       "      <td>92.243678</td>\n",
       "      <td>LINESTRING (890947.837 5355635.788, 890957.436...</td>\n",
       "      <td>92.243678</td>\n",
       "      <td>141</td>\n",
       "      <td>142</td>\n",
       "    </tr>\n",
       "    <tr>\n",
       "      <th>318</th>\n",
       "      <td>1</td>\n",
       "      <td>108.164959</td>\n",
       "      <td>LINESTRING (890714.533 5357494.565, 890728.214...</td>\n",
       "      <td>108.164959</td>\n",
       "      <td>145</td>\n",
       "      <td>146</td>\n",
       "    </tr>\n",
       "    <tr>\n",
       "      <th>501</th>\n",
       "      <td>1</td>\n",
       "      <td>101.371170</td>\n",
       "      <td>LINESTRING (530625.052 5512159.116, 530613.165...</td>\n",
       "      <td>101.371170</td>\n",
       "      <td>228</td>\n",
       "      <td>229</td>\n",
       "    </tr>\n",
       "    <tr>\n",
       "      <th>552</th>\n",
       "      <td>1</td>\n",
       "      <td>108.277055</td>\n",
       "      <td>LINESTRING (545803.731 5336462.240, 545797.559...</td>\n",
       "      <td>108.277055</td>\n",
       "      <td>252</td>\n",
       "      <td>253</td>\n",
       "    </tr>\n",
       "    <tr>\n",
       "      <th>563</th>\n",
       "      <td>1</td>\n",
       "      <td>100.744952</td>\n",
       "      <td>LINESTRING (545660.301 5330429.530, 545658.484...</td>\n",
       "      <td>100.744952</td>\n",
       "      <td>257</td>\n",
       "      <td>148278</td>\n",
       "    </tr>\n",
       "    <tr>\n",
       "      <th>...</th>\n",
       "      <td>...</td>\n",
       "      <td>...</td>\n",
       "      <td>...</td>\n",
       "      <td>...</td>\n",
       "      <td>...</td>\n",
       "      <td>...</td>\n",
       "    </tr>\n",
       "    <tr>\n",
       "      <th>175484</th>\n",
       "      <td>1</td>\n",
       "      <td>83.972570</td>\n",
       "      <td>LINESTRING (330265.968 5608412.710, 330182.167...</td>\n",
       "      <td>83.972570</td>\n",
       "      <td>150438</td>\n",
       "      <td>150439</td>\n",
       "    </tr>\n",
       "    <tr>\n",
       "      <th>175493</th>\n",
       "      <td>1</td>\n",
       "      <td>56.671809</td>\n",
       "      <td>LINESTRING (330167.395 5608392.922, 330224.003...</td>\n",
       "      <td>56.671809</td>\n",
       "      <td>150443</td>\n",
       "      <td>150444</td>\n",
       "    </tr>\n",
       "    <tr>\n",
       "      <th>175496</th>\n",
       "      <td>1</td>\n",
       "      <td>94.836135</td>\n",
       "      <td>LINESTRING (329975.753 5608403.487, 330070.448...</td>\n",
       "      <td>94.836135</td>\n",
       "      <td>150445</td>\n",
       "      <td>150446</td>\n",
       "    </tr>\n",
       "    <tr>\n",
       "      <th>175507</th>\n",
       "      <td>1</td>\n",
       "      <td>50.997642</td>\n",
       "      <td>LINESTRING (330050.664 5608425.150, 330035.557...</td>\n",
       "      <td>50.997642</td>\n",
       "      <td>150454</td>\n",
       "      <td>150455</td>\n",
       "    </tr>\n",
       "    <tr>\n",
       "      <th>175552</th>\n",
       "      <td>1</td>\n",
       "      <td>70.342374</td>\n",
       "      <td>LINESTRING (327624.692 5513893.080, 327607.595...</td>\n",
       "      <td>70.342374</td>\n",
       "      <td>150517</td>\n",
       "      <td>150518</td>\n",
       "    </tr>\n",
       "  </tbody>\n",
       "</table>\n",
       "<p>1169 rows × 6 columns</p>\n",
       "</div>"
      ],
      "text/plain": [
       "        id      length                                           geometry  \\\n",
       "310      1   92.243678  LINESTRING (890947.837 5355635.788, 890957.436...   \n",
       "318      1  108.164959  LINESTRING (890714.533 5357494.565, 890728.214...   \n",
       "501      1  101.371170  LINESTRING (530625.052 5512159.116, 530613.165...   \n",
       "552      1  108.277055  LINESTRING (545803.731 5336462.240, 545797.559...   \n",
       "563      1  100.744952  LINESTRING (545660.301 5330429.530, 545658.484...   \n",
       "...     ..         ...                                                ...   \n",
       "175484   1   83.972570  LINESTRING (330265.968 5608412.710, 330182.167...   \n",
       "175493   1   56.671809  LINESTRING (330167.395 5608392.922, 330224.003...   \n",
       "175496   1   94.836135  LINESTRING (329975.753 5608403.487, 330070.448...   \n",
       "175507   1   50.997642  LINESTRING (330050.664 5608425.150, 330035.557...   \n",
       "175552   1   70.342374  LINESTRING (327624.692 5513893.080, 327607.595...   \n",
       "\n",
       "            mm_len  node_start  node_end  \n",
       "310      92.243678         141       142  \n",
       "318     108.164959         145       146  \n",
       "501     101.371170         228       229  \n",
       "552     108.277055         252       253  \n",
       "563     100.744952         257    148278  \n",
       "...            ...         ...       ...  \n",
       "175484   83.972570      150438    150439  \n",
       "175493   56.671809      150443    150444  \n",
       "175496   94.836135      150445    150446  \n",
       "175507   50.997642      150454    150455  \n",
       "175552   70.342374      150517    150518  \n",
       "\n",
       "[1169 rows x 6 columns]"
      ]
     },
     "execution_count": 17,
     "metadata": {},
     "output_type": "execute_result"
    }
   ],
   "source": [
    "edges[edges.duplicated(subset=[\"node_start\", \"node_end\"])].sort_values(by=[\"node_start\"])"
   ]
  },
  {
   "cell_type": "code",
   "execution_count": 18,
   "id": "288fbf43",
   "metadata": {},
   "outputs": [],
   "source": [
    "nodes.to_file(\"../data/UKR_networks_fixed.gpkg\", layer=\"nodes_ukr_networks\", driver=\"GPKG\")"
   ]
  },
  {
   "cell_type": "code",
   "execution_count": 19,
   "id": "7ce9ccaa",
   "metadata": {},
   "outputs": [],
   "source": [
    "edges.to_file(\"../data/UKR_networks_fixed.gpkg\", layer=\"edges_ukr_networks\", driver=\"GPKG\")"
   ]
  },
  {
   "cell_type": "code",
   "execution_count": 25,
   "id": "0f46ff1f",
   "metadata": {},
   "outputs": [],
   "source": [
    "G = nx.MultiGraph()\n",
    "G.add_nodes_from(nodes.nodeID.unique().tolist())\n",
    "for index, row in edges.iterrows():\n",
    "    G.add_edge(row.node_start, row.node_end, weight=row.length)"
   ]
  },
  {
   "cell_type": "code",
   "execution_count": 31,
   "id": "99f0cbd4",
   "metadata": {},
   "outputs": [],
   "source": [
    "shortest_path = nx.shortest_path(G, 100681, 63593, weight=\"weight\")\n",
    "edges_in_path = []\n",
    "for i in range(len(shortest_path) - 1):\n",
    "    start_node = shortest_path[i]\n",
    "    end_node = shortest_path[i + 1]\n",
    "    edge = edges[\n",
    "        (edges['node_start'] == start_node) & (edges['node_end'] == end_node) |\n",
    "        (edges['node_end'] == start_node) & (edges['node_start'] == end_node)\n",
    "    ]\n",
    "    edges_in_path.append(edge)\n",
    "gdf_route = gpd.GeoDataFrame(pd.concat(edges_in_path))\n",
    "gdf_route.to_file(\"../data/UKR_networks_fixed.gpkg\", layer=\"route_test\", driver=\"GPKG\")"
   ]
  },
  {
   "cell_type": "code",
   "execution_count": 32,
   "id": "5ae494e3",
   "metadata": {},
   "outputs": [
    {
     "data": {
      "text/plain": [
       "1319610.7170608945"
      ]
     },
     "execution_count": 32,
     "metadata": {},
     "output_type": "execute_result"
    }
   ],
   "source": [
    "gdf_route.mm_len.sum()"
   ]
  },
  {
   "cell_type": "code",
   "execution_count": null,
   "id": "ba73568a",
   "metadata": {},
   "outputs": [],
   "source": [
    "def calculate_cost(source, target):\n",
    "    try:\n",
    "        path = nx.shortest_path(G, source, target, weight='travel_cost')\n",
    "        cost = nx.shortest_path_length(G, source, target, weight='travel_cost')\n",
    "        return path, cost\n",
    "    except nx.NetworkXNoPath:\n",
    "        return \"No path exists\", float('inf')\n",
    "    \n",
    "source = G.nodes.get((30.50861, 50.50627))\n",
    "target = G.nodes.get((30.66441, 46.61145))\n",
    "path, cost = calculate_cost(source, target)\n",
    "print(\"Shortest path:\", path)\n",
    "print(\"Cost:\", cost)"
   ]
  }
 ],
 "metadata": {
  "kernelspec": {
   "display_name": "Python 3 (ipykernel)",
   "language": "python",
   "name": "python3"
  },
  "language_info": {
   "codemirror_mode": {
    "name": "ipython",
    "version": 3
   },
   "file_extension": ".py",
   "mimetype": "text/x-python",
   "name": "python",
   "nbconvert_exporter": "python",
   "pygments_lexer": "ipython3",
   "version": "3.10.6"
  }
 },
 "nbformat": 4,
 "nbformat_minor": 5
}
